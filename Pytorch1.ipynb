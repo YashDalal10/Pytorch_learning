{
  "nbformat": 4,
  "nbformat_minor": 0,
  "metadata": {
    "colab": {
      "provenance": []
    },
    "kernelspec": {
      "name": "python3",
      "display_name": "Python 3"
    },
    "language_info": {
      "name": "python"
    }
  },
  "cells": [
    {
      "cell_type": "code",
      "execution_count": 1,
      "metadata": {
        "id": "wZgSTogOG25b"
      },
      "outputs": [],
      "source": [
        "import torch\n",
        "import numpy as np"
      ]
    },
    {
      "cell_type": "code",
      "source": [
        "data = [[1,2],[3,4]]\n",
        "n_data = np.array(data)\n",
        "t_data = torch.tensor(data)\n",
        "print(n_data)\n",
        "print(t_data)"
      ],
      "metadata": {
        "colab": {
          "base_uri": "https://localhost:8080/"
        },
        "id": "DD8H_mPoHl9J",
        "outputId": "fb665734-1c44-4e32-9d57-983b4f28e6dd"
      },
      "execution_count": 6,
      "outputs": [
        {
          "output_type": "stream",
          "name": "stdout",
          "text": [
            "[[1 2]\n",
            " [3 4]]\n",
            "tensor([[1, 2],\n",
            "        [3, 4]])\n"
          ]
        }
      ]
    },
    {
      "cell_type": "code",
      "source": [
        "t_data = torch.from_numpy(n_data)\n",
        "print(t_data)"
      ],
      "metadata": {
        "colab": {
          "base_uri": "https://localhost:8080/"
        },
        "id": "WGSh9hh5HyOT",
        "outputId": "864a6fd5-d6f0-4b16-f1be-ab5bad29d025"
      },
      "execution_count": 7,
      "outputs": [
        {
          "output_type": "stream",
          "name": "stdout",
          "text": [
            "tensor([[1, 2],\n",
            "        [3, 4]])\n"
          ]
        }
      ]
    },
    {
      "cell_type": "code",
      "source": [
        "t_ones = torch.ones_like(t_data)\n",
        "print(t_ones)\n",
        "t_rand = torch.rand_like(t_data, dtype = torch.float)\n",
        "print(t_rand)"
      ],
      "metadata": {
        "colab": {
          "base_uri": "https://localhost:8080/"
        },
        "id": "l7zR-QTCITC8",
        "outputId": "11bda7db-aca3-409d-c297-a402b6418cd9"
      },
      "execution_count": 8,
      "outputs": [
        {
          "output_type": "stream",
          "name": "stdout",
          "text": [
            "tensor([[1, 1],\n",
            "        [1, 1]])\n",
            "tensor([[0.0730, 0.5504],\n",
            "        [0.7663, 0.4178]])\n"
          ]
        }
      ]
    },
    {
      "cell_type": "code",
      "source": [
        "shape = (2,3,)\n",
        "rand_tensor = torch.rand(shape)\n",
        "ones_tensor = torch.ones(shape)\n",
        "zeros_tensor = torch.zeros(shape)\n",
        "print(rand_tensor)\n",
        "print(ones_tensor)\n",
        "print(zeros_tensor)"
      ],
      "metadata": {
        "colab": {
          "base_uri": "https://localhost:8080/"
        },
        "id": "OY1tyjLwIrMZ",
        "outputId": "73ff8a66-1843-402c-cc5c-856e94660ece"
      },
      "execution_count": 10,
      "outputs": [
        {
          "output_type": "stream",
          "name": "stdout",
          "text": [
            "tensor([[0.9580, 0.0602, 0.1460],\n",
            "        [0.6690, 0.1911, 0.2056]])\n",
            "tensor([[1., 1., 1.],\n",
            "        [1., 1., 1.]])\n",
            "tensor([[0., 0., 0.],\n",
            "        [0., 0., 0.]])\n"
          ]
        }
      ]
    },
    {
      "cell_type": "code",
      "source": [
        "t1 = torch.rand(3,4)\n",
        "print(t1)\n",
        "print(t1.shape)\n",
        "print(t1.dtype)\n",
        "print(t1.device)"
      ],
      "metadata": {
        "colab": {
          "base_uri": "https://localhost:8080/"
        },
        "id": "3bi0ahF_JRzv",
        "outputId": "396ee1d6-facf-47ca-f130-f5af9843be75"
      },
      "execution_count": 12,
      "outputs": [
        {
          "output_type": "stream",
          "name": "stdout",
          "text": [
            "tensor([[0.1553, 0.3060, 0.1671, 0.9565],\n",
            "        [0.4031, 0.3485, 0.2095, 0.0109],\n",
            "        [0.0587, 0.2699, 0.2981, 0.4869]])\n",
            "torch.Size([3, 4])\n",
            "torch.float32\n",
            "cpu\n"
          ]
        }
      ]
    },
    {
      "cell_type": "code",
      "source": [
        "if torch.cuda.is_available():\n",
        "  t1 = t1.to('cuda')\n",
        "print(t1.device)"
      ],
      "metadata": {
        "colab": {
          "base_uri": "https://localhost:8080/"
        },
        "id": "0SBuWVy7KMyF",
        "outputId": "184726d1-3b4c-4b45-ba59-96b24ad23009"
      },
      "execution_count": 15,
      "outputs": [
        {
          "output_type": "stream",
          "name": "stdout",
          "text": [
            "cpu\n"
          ]
        }
      ]
    },
    {
      "cell_type": "code",
      "source": [
        "t2 = torch.ones(4,4)\n",
        "t2[:,-1]"
      ],
      "metadata": {
        "colab": {
          "base_uri": "https://localhost:8080/"
        },
        "id": "ISwL0IvSKyVP",
        "outputId": "e2d4f52d-7337-4083-a340-2e261ebbc9b3"
      },
      "execution_count": 21,
      "outputs": [
        {
          "output_type": "execute_result",
          "data": {
            "text/plain": [
              "tensor([1., 1., 1., 1.])"
            ]
          },
          "metadata": {},
          "execution_count": 21
        }
      ]
    },
    {
      "cell_type": "code",
      "source": [
        "t21 = torch.cat([t2,t2,t2,t2])\n",
        "t21"
      ],
      "metadata": {
        "colab": {
          "base_uri": "https://localhost:8080/"
        },
        "id": "apXBPsVmL2M8",
        "outputId": "3e678984-37b3-4a84-f842-80e426d0589a"
      },
      "execution_count": 23,
      "outputs": [
        {
          "output_type": "execute_result",
          "data": {
            "text/plain": [
              "tensor([[1., 1., 1., 1.],\n",
              "        [1., 1., 1., 1.],\n",
              "        [1., 1., 1., 1.],\n",
              "        [1., 1., 1., 1.],\n",
              "        [1., 1., 1., 1.],\n",
              "        [1., 1., 1., 1.],\n",
              "        [1., 1., 1., 1.],\n",
              "        [1., 1., 1., 1.],\n",
              "        [1., 1., 1., 1.],\n",
              "        [1., 1., 1., 1.],\n",
              "        [1., 1., 1., 1.],\n",
              "        [1., 1., 1., 1.],\n",
              "        [1., 1., 1., 1.],\n",
              "        [1., 1., 1., 1.],\n",
              "        [1., 1., 1., 1.],\n",
              "        [1., 1., 1., 1.]])"
            ]
          },
          "metadata": {},
          "execution_count": 23
        }
      ]
    },
    {
      "cell_type": "code",
      "source": [
        "print(t1)\n",
        "y1 = t1 @ t1.T\n",
        "print(y1)\n",
        "y2 = torch.matmul(t1, t1.T)\n",
        "print(y2)\n",
        "y3 = torch.rand_like(y1)\n",
        "torch.matmul(t1, t1.T, out = y3)\n",
        "z1 = t1 * t1\n",
        "print(z1)\n",
        "z2 = torch.mul(t1, t1)\n",
        "print(z2)\n",
        "z3 = torch.rand_like(z1)\n",
        "torch.mul(t1, t1, out = z3)"
      ],
      "metadata": {
        "colab": {
          "base_uri": "https://localhost:8080/"
        },
        "id": "uUPCBji-MM_m",
        "outputId": "cf94972c-adc5-443f-a118-f4c6e6a6b451"
      },
      "execution_count": 28,
      "outputs": [
        {
          "output_type": "stream",
          "name": "stdout",
          "text": [
            "tensor([[0.1553, 0.3060, 0.1671, 0.9565],\n",
            "        [0.4031, 0.3485, 0.2095, 0.0109],\n",
            "        [0.0587, 0.2699, 0.2981, 0.4869]])\n",
            "tensor([[1.0605, 0.2147, 0.6072],\n",
            "        [0.2147, 0.3279, 0.1855],\n",
            "        [0.6072, 0.1855, 0.4023]])\n",
            "tensor([[1.0605, 0.2147, 0.6072],\n",
            "        [0.2147, 0.3279, 0.1855],\n",
            "        [0.6072, 0.1855, 0.4023]])\n",
            "tensor([[2.4121e-02, 9.3637e-02, 2.7924e-02, 9.1482e-01],\n",
            "        [1.6248e-01, 1.2145e-01, 4.3889e-02, 1.1847e-04],\n",
            "        [3.4480e-03, 7.2841e-02, 8.8882e-02, 2.3708e-01]])\n",
            "tensor([[2.4121e-02, 9.3637e-02, 2.7924e-02, 9.1482e-01],\n",
            "        [1.6248e-01, 1.2145e-01, 4.3889e-02, 1.1847e-04],\n",
            "        [3.4480e-03, 7.2841e-02, 8.8882e-02, 2.3708e-01]])\n"
          ]
        },
        {
          "output_type": "execute_result",
          "data": {
            "text/plain": [
              "tensor([[2.4121e-02, 9.3637e-02, 2.7924e-02, 9.1482e-01],\n",
              "        [1.6248e-01, 1.2145e-01, 4.3889e-02, 1.1847e-04],\n",
              "        [3.4480e-03, 7.2841e-02, 8.8882e-02, 2.3708e-01]])"
            ]
          },
          "metadata": {},
          "execution_count": 28
        }
      ]
    },
    {
      "cell_type": "code",
      "source": [
        "sum_t1 = t1.sum()\n",
        "print(sum_t1)\n",
        "t1_item = sum_t1.item()\n",
        "print(t1_item, type(t1_item))"
      ],
      "metadata": {
        "colab": {
          "base_uri": "https://localhost:8080/"
        },
        "id": "xxd6PyfKMco8",
        "outputId": "65ece1a0-5514-4930-da0f-2307dd63cd86"
      },
      "execution_count": 30,
      "outputs": [
        {
          "output_type": "stream",
          "name": "stdout",
          "text": [
            "tensor(3.6705)\n",
            "3.6704936027526855 <class 'float'>\n"
          ]
        }
      ]
    },
    {
      "cell_type": "code",
      "source": [
        "print(t1)\n",
        "t1.add_(5)\n",
        "print(t1)"
      ],
      "metadata": {
        "colab": {
          "base_uri": "https://localhost:8080/"
        },
        "id": "DSNzYcNxNcHs",
        "outputId": "3dde9370-4ff6-4ebf-e7e9-d3b8b490660d"
      },
      "execution_count": 31,
      "outputs": [
        {
          "output_type": "stream",
          "name": "stdout",
          "text": [
            "tensor([[0.1553, 0.3060, 0.1671, 0.9565],\n",
            "        [0.4031, 0.3485, 0.2095, 0.0109],\n",
            "        [0.0587, 0.2699, 0.2981, 0.4869]])\n",
            "tensor([[5.1553, 5.3060, 5.1671, 5.9565],\n",
            "        [5.4031, 5.3485, 5.2095, 5.0109],\n",
            "        [5.0587, 5.2699, 5.2981, 5.4869]])\n"
          ]
        }
      ]
    },
    {
      "cell_type": "code",
      "source": [],
      "metadata": {
        "id": "JhWJb9pxNs9y"
      },
      "execution_count": null,
      "outputs": []
    }
  ]
}